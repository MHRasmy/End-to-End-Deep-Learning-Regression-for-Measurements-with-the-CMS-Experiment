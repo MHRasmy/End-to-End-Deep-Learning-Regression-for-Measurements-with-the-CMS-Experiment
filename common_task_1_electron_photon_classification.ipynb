{
  "metadata": {
    "kernelspec": {
      "language": "python",
      "display_name": "Python 3",
      "name": "python3"
    },
    "language_info": {
      "name": "python",
      "version": "3.10.13",
      "mimetype": "text/x-python",
      "codemirror_mode": {
        "name": "ipython",
        "version": 3
      },
      "pygments_lexer": "ipython3",
      "nbconvert_exporter": "python",
      "file_extension": ".py"
    },
    "kaggle": {
      "accelerator": "gpu",
      "dataSources": [],
      "dockerImageVersionId": 30673,
      "isInternetEnabled": true,
      "language": "python",
      "sourceType": "notebook",
      "isGpuEnabled": true
    },
    "colab": {
      "provenance": []
    }
  },
  "nbformat_minor": 0,
  "nbformat": 4,
  "cells": [
    {
      "cell_type": "code",
      "source": [
        "pip install --upgrade --quiet tensorflow"
      ],
      "metadata": {
        "execution": {
          "iopub.status.busy": "2024-03-22T09:11:07.597650Z",
          "iopub.execute_input": "2024-03-22T09:11:07.598462Z",
          "iopub.status.idle": "2024-03-22T09:11:19.900570Z",
          "shell.execute_reply.started": "2024-03-22T09:11:07.598426Z",
          "shell.execute_reply": "2024-03-22T09:11:19.899342Z"
        },
        "trusted": true,
        "id": "YbpJpRTjfQYy",
        "outputId": "3e57545a-9ca5-443c-9594-8a3944598233"
      },
      "execution_count": null,
      "outputs": [
        {
          "name": "stdout",
          "text": "Note: you may need to restart the kernel to use updated packages.\n",
          "output_type": "stream"
        }
      ]
    },
    {
      "cell_type": "code",
      "source": [
        "import h5py\n",
        "import requests\n",
        "import numpy as np\n",
        "import matplotlib.pyplot as plt\n",
        "import os\n",
        "import PIL\n",
        "import tensorflow as tf\n",
        "from tensorflow import keras\n",
        "from tensorflow.keras import layers\n",
        "from tensorflow.keras.layers import Dense, Flatten, Dropout\n",
        "from tensorflow.keras.models import Sequential\n",
        "from tensorflow.keras.optimizers import Adam\n",
        "from sklearn.model_selection import train_test_split\n",
        "from tensorflow.keras.callbacks import ModelCheckpoint\n",
        "from sklearn.metrics import roc_auc_score\n",
        "from tensorflow.keras.optimizers import Adam"
      ],
      "metadata": {
        "execution": {
          "iopub.status.busy": "2024-03-22T13:03:05.089792Z",
          "iopub.execute_input": "2024-03-22T13:03:05.090665Z",
          "iopub.status.idle": "2024-03-22T13:03:09.143284Z",
          "shell.execute_reply.started": "2024-03-22T13:03:05.090630Z",
          "shell.execute_reply": "2024-03-22T13:03:09.142253Z"
        },
        "trusted": true,
        "id": "BPmPYO1nfQY1"
      },
      "execution_count": null,
      "outputs": []
    },
    {
      "cell_type": "code",
      "source": [
        "photon_url = \"https://cernbox.cern.ch/remote.php/dav/public-files/AtBT8y4MiQYFcgc/SinglePhotonPt50_IMGCROPS_n249k_RHv1.hdf5\"\n",
        "photon_filename = \"SinglePhotonPt50_IMGCROPS_n249k_RHv1.hdf5\"\n",
        "\n",
        "electron_url = \"https://cernbox.cern.ch/remote.php/dav/public-files/FbXw3V4XNyYB3oA/SingleElectronPt50_IMGCROPS_n249k_RHv1.hdf5\"\n",
        "electron_filename = \"SingleElectronPt50_IMGCROPS_n249k_RHv1.hdf5\"\n",
        "\n",
        "urls, filenames = [photon_url, electron_url], [photon_filename, electron_filename]\n",
        "\n",
        "for i in range(2):\n",
        "    response = requests.get(urls[i])\n",
        "    with open(filenames[i], 'wb') as f:\n",
        "        f.write(response.content)"
      ],
      "metadata": {
        "_uuid": "8f2839f25d086af736a60e9eeb907d3b93b6e0e5",
        "_cell_guid": "b1076dfc-b9ad-4769-8c92-a6c4dae69d19",
        "execution": {
          "iopub.status.busy": "2024-03-22T13:03:09.145102Z",
          "iopub.execute_input": "2024-03-22T13:03:09.146156Z",
          "iopub.status.idle": "2024-03-22T13:03:09.151467Z",
          "shell.execute_reply.started": "2024-03-22T13:03:09.146115Z",
          "shell.execute_reply": "2024-03-22T13:03:09.150422Z"
        },
        "trusted": true,
        "id": "pQhyBEZefQY2"
      },
      "execution_count": null,
      "outputs": []
    },
    {
      "cell_type": "code",
      "source": [
        "with h5py.File(photon_filename, 'r') as f_photon:\n",
        "    X_photon, y_photon = f_photon['X'][:], f_photon['y'][:]\n",
        "\n",
        "with h5py.File(electron_filename, 'r') as f_electron:\n",
        "    X_electron, y_electron = f_electron['X'][:], f_electron['y'][:]\n",
        "\n",
        "X_combined = np.concatenate((X_photon, X_electron), axis=0)\n",
        "y_combined = np.concatenate((y_photon, y_electron), axis=0)\n",
        "\n",
        "print(\"Shape of combined data array:\", X_combined.shape)\n",
        "print(\"Shape of combined target array:\", y_combined.shape)"
      ],
      "metadata": {
        "execution": {
          "iopub.status.busy": "2024-03-22T13:03:09.152650Z",
          "iopub.execute_input": "2024-03-22T13:03:09.153129Z",
          "iopub.status.idle": "2024-03-22T13:03:24.059204Z",
          "shell.execute_reply.started": "2024-03-22T13:03:09.153088Z",
          "shell.execute_reply": "2024-03-22T13:03:24.058205Z"
        },
        "trusted": true,
        "id": "sl1rk8LrfQY3",
        "outputId": "af2bb95d-dda1-49b9-d75c-e04274c5de23"
      },
      "execution_count": null,
      "outputs": [
        {
          "name": "stdout",
          "text": "Shape of combined data array: (498000, 32, 32, 2)\nShape of combined target array: (498000,)\n",
          "output_type": "stream"
        }
      ]
    },
    {
      "cell_type": "code",
      "source": [
        "energy_channel = X_combined[:, :, :, 0]\n",
        "time_channel = X_combined[:, :, :, 1]\n",
        "\n",
        "# Create a new array by stacking the two channels along with a zeros array for the third channel\n",
        "X_combined_3channel = np.stack([energy_channel, time_channel, np.zeros_like(time_channel)], axis=-1)"
      ],
      "metadata": {
        "execution": {
          "iopub.status.busy": "2024-03-22T13:03:24.066641Z",
          "iopub.execute_input": "2024-03-22T13:03:24.066961Z",
          "iopub.status.idle": "2024-03-22T13:03:28.829030Z",
          "shell.execute_reply.started": "2024-03-22T13:03:24.066936Z",
          "shell.execute_reply": "2024-03-22T13:03:28.828133Z"
        },
        "trusted": true,
        "id": "ehjYId9-fQY5"
      },
      "execution_count": null,
      "outputs": []
    },
    {
      "cell_type": "code",
      "source": [
        "x_train, x_test, y_train, y_test = train_test_split(X_combined, y_combined, test_size=0.2, shuffle=True, random_state=42, stratify=y_combined)"
      ],
      "metadata": {
        "execution": {
          "iopub.status.busy": "2024-03-22T13:03:28.830450Z",
          "iopub.execute_input": "2024-03-22T13:03:28.831032Z",
          "iopub.status.idle": "2024-03-22T13:03:31.144421Z",
          "shell.execute_reply.started": "2024-03-22T13:03:28.830992Z",
          "shell.execute_reply": "2024-03-22T13:03:31.143554Z"
        },
        "trusted": true,
        "id": "qvmySMIBfQY5"
      },
      "execution_count": null,
      "outputs": []
    },
    {
      "cell_type": "code",
      "source": [
        "y_train[0]"
      ],
      "metadata": {
        "execution": {
          "iopub.status.busy": "2024-03-22T13:03:31.165246Z",
          "iopub.execute_input": "2024-03-22T13:03:31.165474Z",
          "iopub.status.idle": "2024-03-22T13:03:31.176412Z",
          "shell.execute_reply.started": "2024-03-22T13:03:31.165453Z",
          "shell.execute_reply": "2024-03-22T13:03:31.175553Z"
        },
        "trusted": true,
        "id": "s-JSGQscfQY6",
        "outputId": "0d8ebf24-5dc5-4c51-ad4c-996554551dd4"
      },
      "execution_count": null,
      "outputs": [
        {
          "execution_count": 9,
          "output_type": "execute_result",
          "data": {
            "text/plain": "0.0"
          },
          "metadata": {}
        }
      ]
    },
    {
      "cell_type": "code",
      "source": [
        "x_train.shape"
      ],
      "metadata": {
        "execution": {
          "iopub.status.busy": "2024-03-22T13:03:31.177295Z",
          "iopub.execute_input": "2024-03-22T13:03:31.177525Z",
          "iopub.status.idle": "2024-03-22T13:03:31.188275Z",
          "shell.execute_reply.started": "2024-03-22T13:03:31.177504Z",
          "shell.execute_reply": "2024-03-22T13:03:31.187324Z"
        },
        "trusted": true,
        "id": "kvZMlIf3fQY9",
        "outputId": "1c208916-8f3f-4359-e0af-aac5383a8a7b"
      },
      "execution_count": null,
      "outputs": [
        {
          "execution_count": 10,
          "output_type": "execute_result",
          "data": {
            "text/plain": "(398400, 32, 32, 2)"
          },
          "metadata": {}
        }
      ]
    },
    {
      "cell_type": "code",
      "source": [
        "del X_combined_3channel\n",
        "del y_combined\n",
        "del energy_channel\n",
        "del time_channel\n",
        "del X_photon\n",
        "del y_photon\n",
        "del X_electron\n",
        "del y_electron"
      ],
      "metadata": {
        "execution": {
          "iopub.status.busy": "2024-03-22T13:03:31.189417Z",
          "iopub.execute_input": "2024-03-22T13:03:31.189648Z",
          "iopub.status.idle": "2024-03-22T13:03:31.475303Z",
          "shell.execute_reply.started": "2024-03-22T13:03:31.189627Z",
          "shell.execute_reply": "2024-03-22T13:03:31.474424Z"
        },
        "trusted": true,
        "id": "n-uQDjarfQY9"
      },
      "execution_count": null,
      "outputs": []
    },
    {
      "cell_type": "code",
      "source": [
        "model = Sequential()\n",
        "\n",
        "resnet50_model = keras.applications.ResNet50(\n",
        "    include_top=True,\n",
        "    weights=None,\n",
        "    input_shape=(32, 32, 2),\n",
        "    pooling='max',\n",
        "    classes=1,\n",
        "    classifier_activation=\"sigmoid\",\n",
        ")\n",
        "# for layer in resnet50_model.layers:\n",
        "#     layer.trainable = False\n",
        "\n",
        "model.add(resnet50_model)\n",
        "# model.add(Flatten())\n",
        "# model.add(Dense(512, activation='relu'))\n",
        "# model.add(Dropout(0.5))\n",
        "# model.add(Dense(1, activation='sigmoid'))\n",
        "\n",
        "model.summary()"
      ],
      "metadata": {
        "execution": {
          "iopub.status.busy": "2024-03-22T13:03:31.522704Z",
          "iopub.execute_input": "2024-03-22T13:03:31.522971Z",
          "iopub.status.idle": "2024-03-22T13:03:32.885212Z",
          "shell.execute_reply.started": "2024-03-22T13:03:31.522940Z",
          "shell.execute_reply": "2024-03-22T13:03:32.884191Z"
        },
        "trusted": true,
        "id": "_PZhGrT5fQZA",
        "outputId": "1d0dba0c-015d-4e72-8287-a93812136961"
      },
      "execution_count": null,
      "outputs": [
        {
          "name": "stderr",
          "text": "/opt/conda/lib/python3.10/site-packages/keras/src/applications/resnet.py:125: UserWarning: This model usually expects 1 or 3 input channels. However, it was passed an input_shape with 2 input channels.\n  input_shape = imagenet_utils.obtain_input_shape(\n",
          "output_type": "stream"
        },
        {
          "output_type": "display_data",
          "data": {
            "text/plain": "\u001b[1mModel: \"sequential\"\u001b[0m\n",
            "text/html": "<pre style=\"white-space:pre;overflow-x:auto;line-height:normal;font-family:Menlo,'DejaVu Sans Mono',consolas,'Courier New',monospace\"><span style=\"font-weight: bold\">Model: \"sequential\"</span>\n</pre>\n"
          },
          "metadata": {}
        },
        {
          "output_type": "display_data",
          "data": {
            "text/plain": "┏━━━━━━━━━━━━━━━━━━━━━━━━━━━━━━━━━┳━━━━━━━━━━━━━━━━━━━━━━━━┳━━━━━━━━━━━━━━━┓\n┃\u001b[1m \u001b[0m\u001b[1mLayer (type)                   \u001b[0m\u001b[1m \u001b[0m┃\u001b[1m \u001b[0m\u001b[1mOutput Shape          \u001b[0m\u001b[1m \u001b[0m┃\u001b[1m \u001b[0m\u001b[1m      Param #\u001b[0m\u001b[1m \u001b[0m┃\n┡━━━━━━━━━━━━━━━━━━━━━━━━━━━━━━━━━╇━━━━━━━━━━━━━━━━━━━━━━━━╇━━━━━━━━━━━━━━━┩\n│ resnet50 (\u001b[38;5;33mFunctional\u001b[0m)           │ ?                      │    \u001b[38;5;34m23,586,625\u001b[0m │\n└─────────────────────────────────┴────────────────────────┴───────────────┘\n",
            "text/html": "<pre style=\"white-space:pre;overflow-x:auto;line-height:normal;font-family:Menlo,'DejaVu Sans Mono',consolas,'Courier New',monospace\">┏━━━━━━━━━━━━━━━━━━━━━━━━━━━━━━━━━┳━━━━━━━━━━━━━━━━━━━━━━━━┳━━━━━━━━━━━━━━━┓\n┃<span style=\"font-weight: bold\"> Layer (type)                    </span>┃<span style=\"font-weight: bold\"> Output Shape           </span>┃<span style=\"font-weight: bold\">       Param # </span>┃\n┡━━━━━━━━━━━━━━━━━━━━━━━━━━━━━━━━━╇━━━━━━━━━━━━━━━━━━━━━━━━╇━━━━━━━━━━━━━━━┩\n│ resnet50 (<span style=\"color: #0087ff; text-decoration-color: #0087ff\">Functional</span>)           │ ?                      │    <span style=\"color: #00af00; text-decoration-color: #00af00\">23,586,625</span> │\n└─────────────────────────────────┴────────────────────────┴───────────────┘\n</pre>\n"
          },
          "metadata": {}
        },
        {
          "output_type": "display_data",
          "data": {
            "text/plain": "\u001b[1m Total params: \u001b[0m\u001b[38;5;34m23,586,625\u001b[0m (89.98 MB)\n",
            "text/html": "<pre style=\"white-space:pre;overflow-x:auto;line-height:normal;font-family:Menlo,'DejaVu Sans Mono',consolas,'Courier New',monospace\"><span style=\"font-weight: bold\"> Total params: </span><span style=\"color: #00af00; text-decoration-color: #00af00\">23,586,625</span> (89.98 MB)\n</pre>\n"
          },
          "metadata": {}
        },
        {
          "output_type": "display_data",
          "data": {
            "text/plain": "\u001b[1m Trainable params: \u001b[0m\u001b[38;5;34m23,533,505\u001b[0m (89.77 MB)\n",
            "text/html": "<pre style=\"white-space:pre;overflow-x:auto;line-height:normal;font-family:Menlo,'DejaVu Sans Mono',consolas,'Courier New',monospace\"><span style=\"font-weight: bold\"> Trainable params: </span><span style=\"color: #00af00; text-decoration-color: #00af00\">23,533,505</span> (89.77 MB)\n</pre>\n"
          },
          "metadata": {}
        },
        {
          "output_type": "display_data",
          "data": {
            "text/plain": "\u001b[1m Non-trainable params: \u001b[0m\u001b[38;5;34m53,120\u001b[0m (207.50 KB)\n",
            "text/html": "<pre style=\"white-space:pre;overflow-x:auto;line-height:normal;font-family:Menlo,'DejaVu Sans Mono',consolas,'Courier New',monospace\"><span style=\"font-weight: bold\"> Non-trainable params: </span><span style=\"color: #00af00; text-decoration-color: #00af00\">53,120</span> (207.50 KB)\n</pre>\n"
          },
          "metadata": {}
        }
      ]
    },
    {
      "cell_type": "code",
      "source": [
        "model.compile(loss=\"binary_crossentropy\", optimizer=Adam(learning_rate=0.001), metrics=[\"accuracy\"])"
      ],
      "metadata": {
        "execution": {
          "iopub.status.busy": "2024-03-22T13:03:35.685827Z",
          "iopub.execute_input": "2024-03-22T13:03:35.686107Z",
          "iopub.status.idle": "2024-03-22T13:03:35.701213Z",
          "shell.execute_reply.started": "2024-03-22T13:03:35.686078Z",
          "shell.execute_reply": "2024-03-22T13:03:35.700250Z"
        },
        "trusted": true,
        "id": "Q6q_yGBjfQZB"
      },
      "execution_count": null,
      "outputs": []
    },
    {
      "cell_type": "code",
      "source": [
        "# rm -rf /kaggle/working/model_output"
      ],
      "metadata": {
        "execution": {
          "iopub.status.busy": "2024-03-22T13:03:36.659092Z",
          "iopub.execute_input": "2024-03-22T13:03:36.659373Z",
          "iopub.status.idle": "2024-03-22T13:03:36.663726Z",
          "shell.execute_reply.started": "2024-03-22T13:03:36.659346Z",
          "shell.execute_reply": "2024-03-22T13:03:36.662800Z"
        },
        "trusted": true,
        "id": "8bCcS8sZfQZC"
      },
      "execution_count": null,
      "outputs": []
    },
    {
      "cell_type": "code",
      "source": [
        "output_dir = 'model_output/resnet50_maxpool_adam001'\n",
        "\n",
        "modelcheckpoint = ModelCheckpoint(filepath=output_dir+\"/weights.{epoch:02d}.keras\")\n",
        "\n",
        "if not os.path.exists(output_dir):\n",
        "    os.makedirs(output_dir)\n",
        "\n",
        "callback = keras.callbacks.EarlyStopping(\n",
        "    monitor=\"val_loss\",\n",
        "    patience=3,\n",
        "    verbose=1,\n",
        "    restore_best_weights=True,\n",
        ")"
      ],
      "metadata": {
        "execution": {
          "iopub.status.busy": "2024-03-22T13:03:46.497325Z",
          "iopub.execute_input": "2024-03-22T13:03:46.497589Z",
          "iopub.status.idle": "2024-03-22T13:03:46.503442Z",
          "shell.execute_reply.started": "2024-03-22T13:03:46.497558Z",
          "shell.execute_reply": "2024-03-22T13:03:46.502389Z"
        },
        "trusted": true,
        "id": "UXdEl2NafQZD"
      },
      "execution_count": null,
      "outputs": []
    },
    {
      "cell_type": "code",
      "source": [
        "epochs = 50\n",
        "batch_size = 32\n",
        "\n",
        "history = model.fit(\n",
        "    x_train,\n",
        "    y_train,\n",
        "    batch_size=batch_size,\n",
        "    epochs=epochs,\n",
        "    verbose=1,\n",
        "    validation_data=(x_test, y_test),\n",
        "    callbacks=[callback, modelcheckpoint]\n",
        ")"
      ],
      "metadata": {
        "execution": {
          "iopub.status.busy": "2024-03-22T10:23:43.852570Z",
          "iopub.execute_input": "2024-03-22T10:23:43.853237Z",
          "iopub.status.idle": "2024-03-22T12:26:09.263193Z",
          "shell.execute_reply.started": "2024-03-22T10:23:43.853200Z",
          "shell.execute_reply": "2024-03-22T12:26:09.262262Z"
        },
        "trusted": true,
        "id": "a-Jp_JWUfQZE",
        "outputId": "fd8b9bc7-ed2c-4144-e8ae-74212ffcc157"
      },
      "execution_count": null,
      "outputs": [
        {
          "name": "stdout",
          "text": "Epoch 1/50\n",
          "output_type": "stream"
        },
        {
          "name": "stderr",
          "text": "WARNING: All log messages before absl::InitializeLog() is called are written to STDERR\nI0000 00:00:1711103069.426778     881 service.cc:145] XLA service 0x7f8414002570 initialized for platform CUDA (this does not guarantee that XLA will be used). Devices:\nI0000 00:00:1711103069.426822     881 service.cc:153]   StreamExecutor device (0): Tesla P100-PCIE-16GB, Compute Capability 6.0\n",
          "output_type": "stream"
        },
        {
          "name": "stdout",
          "text": "\u001b[1m    3/12450\u001b[0m \u001b[37m━━━━━━━━━━━━━━━━━━━━\u001b[0m \u001b[1m6:48\u001b[0m 33ms/step - accuracy: 0.4740 - loss: 1.8538    ",
          "output_type": "stream"
        },
        {
          "name": "stderr",
          "text": "I0000 00:00:1711103089.079931     881 device_compiler.h:188] Compiled cluster using XLA!  This line is logged at most once for the lifetime of the process.\n",
          "output_type": "stream"
        },
        {
          "name": "stdout",
          "text": "\u001b[1m12450/12450\u001b[0m \u001b[32m━━━━━━━━━━━━━━━━━━━━\u001b[0m\u001b[37m\u001b[0m \u001b[1m416s\u001b[0m 29ms/step - accuracy: 0.5651 - loss: 0.7258 - val_accuracy: 0.6027 - val_loss: 0.6663\nEpoch 2/50\n\u001b[1m12450/12450\u001b[0m \u001b[32m━━━━━━━━━━━━━━━━━━━━\u001b[0m\u001b[37m\u001b[0m \u001b[1m343s\u001b[0m 28ms/step - accuracy: 0.6050 - loss: 0.6702 - val_accuracy: 0.6134 - val_loss: 0.6592\nEpoch 3/50\n\u001b[1m12450/12450\u001b[0m \u001b[32m━━━━━━━━━━━━━━━━━━━━\u001b[0m\u001b[37m\u001b[0m \u001b[1m343s\u001b[0m 28ms/step - accuracy: 0.6331 - loss: 0.6456 - val_accuracy: 0.6649 - val_loss: 0.6316\nEpoch 4/50\n\u001b[1m12450/12450\u001b[0m \u001b[32m━━━━━━━━━━━━━━━━━━━━\u001b[0m\u001b[37m\u001b[0m \u001b[1m345s\u001b[0m 28ms/step - accuracy: 0.6610 - loss: 0.6226 - val_accuracy: 0.6728 - val_loss: 0.6117\nEpoch 5/50\n\u001b[1m12450/12450\u001b[0m \u001b[32m━━━━━━━━━━━━━━━━━━━━\u001b[0m\u001b[37m\u001b[0m \u001b[1m341s\u001b[0m 27ms/step - accuracy: 0.6822 - loss: 0.6028 - val_accuracy: 0.6820 - val_loss: 0.6078\nEpoch 6/50\n\u001b[1m12450/12450\u001b[0m \u001b[32m━━━━━━━━━━━━━━━━━━━━\u001b[0m\u001b[37m\u001b[0m \u001b[1m336s\u001b[0m 27ms/step - accuracy: 0.6966 - loss: 0.5877 - val_accuracy: 0.6975 - val_loss: 0.5835\nEpoch 7/50\n\u001b[1m12450/12450\u001b[0m \u001b[32m━━━━━━━━━━━━━━━━━━━━\u001b[0m\u001b[37m\u001b[0m \u001b[1m338s\u001b[0m 27ms/step - accuracy: 0.7056 - loss: 0.5783 - val_accuracy: 0.7092 - val_loss: 0.5720\nEpoch 8/50\n\u001b[1m12450/12450\u001b[0m \u001b[32m━━━━━━━━━━━━━━━━━━━━\u001b[0m\u001b[37m\u001b[0m \u001b[1m340s\u001b[0m 27ms/step - accuracy: 0.7087 - loss: 0.5733 - val_accuracy: 0.7072 - val_loss: 0.5751\nEpoch 9/50\n\u001b[1m12450/12450\u001b[0m \u001b[32m━━━━━━━━━━━━━━━━━━━━\u001b[0m\u001b[37m\u001b[0m \u001b[1m340s\u001b[0m 27ms/step - accuracy: 0.7122 - loss: 0.5686 - val_accuracy: 0.6910 - val_loss: 0.5904\nEpoch 10/50\n\u001b[1m12450/12450\u001b[0m \u001b[32m━━━━━━━━━━━━━━━━━━━━\u001b[0m\u001b[37m\u001b[0m \u001b[1m341s\u001b[0m 27ms/step - accuracy: 0.7142 - loss: 0.5668 - val_accuracy: 0.7141 - val_loss: 0.5670\nEpoch 11/50\n\u001b[1m12450/12450\u001b[0m \u001b[32m━━━━━━━━━━━━━━━━━━━━\u001b[0m\u001b[37m\u001b[0m \u001b[1m343s\u001b[0m 28ms/step - accuracy: 0.7171 - loss: 0.5629 - val_accuracy: 0.7129 - val_loss: 0.5670\nEpoch 12/50\n\u001b[1m12450/12450\u001b[0m \u001b[32m━━━━━━━━━━━━━━━━━━━━\u001b[0m\u001b[37m\u001b[0m \u001b[1m339s\u001b[0m 27ms/step - accuracy: 0.7204 - loss: 0.5592 - val_accuracy: 0.7163 - val_loss: 0.5651\nEpoch 13/50\n\u001b[1m12450/12450\u001b[0m \u001b[32m━━━━━━━━━━━━━━━━━━━━\u001b[0m\u001b[37m\u001b[0m \u001b[1m359s\u001b[0m 29ms/step - accuracy: 0.7223 - loss: 0.5560 - val_accuracy: 0.7184 - val_loss: 0.5612\nEpoch 14/50\n\u001b[1m12450/12450\u001b[0m \u001b[32m━━━━━━━━━━━━━━━━━━━━\u001b[0m\u001b[37m\u001b[0m \u001b[1m362s\u001b[0m 29ms/step - accuracy: 0.7212 - loss: 0.5564 - val_accuracy: 0.7160 - val_loss: 0.5608\nEpoch 15/50\n\u001b[1m12450/12450\u001b[0m \u001b[32m━━━━━━━━━━━━━━━━━━━━\u001b[0m\u001b[37m\u001b[0m \u001b[1m363s\u001b[0m 29ms/step - accuracy: 0.7236 - loss: 0.5534 - val_accuracy: 0.6699 - val_loss: 0.6014\nEpoch 16/50\n\u001b[1m12450/12450\u001b[0m \u001b[32m━━━━━━━━━━━━━━━━━━━━\u001b[0m\u001b[37m\u001b[0m \u001b[1m368s\u001b[0m 30ms/step - accuracy: 0.7269 - loss: 0.5506 - val_accuracy: 0.7175 - val_loss: 0.5643\nEpoch 17/50\n\u001b[1m12450/12450\u001b[0m \u001b[32m━━━━━━━━━━━━━━━━━━━━\u001b[0m\u001b[37m\u001b[0m \u001b[1m352s\u001b[0m 28ms/step - accuracy: 0.7268 - loss: 0.5496 - val_accuracy: 0.7212 - val_loss: 0.5569\nEpoch 18/50\n\u001b[1m12450/12450\u001b[0m \u001b[32m━━━━━━━━━━━━━━━━━━━━\u001b[0m\u001b[37m\u001b[0m \u001b[1m342s\u001b[0m 27ms/step - accuracy: 0.7277 - loss: 0.5488 - val_accuracy: 0.7227 - val_loss: 0.5552\nEpoch 19/50\n\u001b[1m12450/12450\u001b[0m \u001b[32m━━━━━━━━━━━━━━━━━━━━\u001b[0m\u001b[37m\u001b[0m \u001b[1m342s\u001b[0m 27ms/step - accuracy: 0.7293 - loss: 0.5466 - val_accuracy: 0.5319 - val_loss: 0.8686\nEpoch 20/50\n\u001b[1m12450/12450\u001b[0m \u001b[32m━━━━━━━━━━━━━━━━━━━━\u001b[0m\u001b[37m\u001b[0m \u001b[1m341s\u001b[0m 27ms/step - accuracy: 0.7310 - loss: 0.5447 - val_accuracy: 0.7200 - val_loss: 0.5588\nEpoch 21/50\n\u001b[1m12450/12450\u001b[0m \u001b[32m━━━━━━━━━━━━━━━━━━━━\u001b[0m\u001b[37m\u001b[0m \u001b[1m342s\u001b[0m 27ms/step - accuracy: 0.7324 - loss: 0.5422 - val_accuracy: 0.6662 - val_loss: 0.6207\nEpoch 21: early stopping\nRestoring model weights from the end of the best epoch: 18.\n",
          "output_type": "stream"
        }
      ]
    },
    {
      "cell_type": "code",
      "source": [
        "model.save(\"trainedResNet50.keras\")"
      ],
      "metadata": {
        "execution": {
          "iopub.status.busy": "2024-03-22T12:44:14.685991Z",
          "iopub.execute_input": "2024-03-22T12:44:14.686840Z",
          "iopub.status.idle": "2024-03-22T12:44:16.113879Z",
          "shell.execute_reply.started": "2024-03-22T12:44:14.686803Z",
          "shell.execute_reply": "2024-03-22T12:44:16.112790Z"
        },
        "trusted": true,
        "id": "l4fM9I0ufQZF"
      },
      "execution_count": null,
      "outputs": []
    },
    {
      "cell_type": "code",
      "source": [
        "x = keras.models.load_model('trainedResNet50.keras')"
      ],
      "metadata": {
        "execution": {
          "iopub.status.busy": "2024-03-22T12:44:59.233480Z",
          "iopub.execute_input": "2024-03-22T12:44:59.234085Z",
          "iopub.status.idle": "2024-03-22T12:45:07.698908Z",
          "shell.execute_reply.started": "2024-03-22T12:44:59.234053Z",
          "shell.execute_reply": "2024-03-22T12:45:07.697802Z"
        },
        "trusted": true,
        "id": "GF7yz7bLfQZG",
        "outputId": "63789bb4-0148-43df-bbf9-1739cefb4ac8"
      },
      "execution_count": null,
      "outputs": [
        {
          "name": "stderr",
          "text": "/opt/conda/lib/python3.10/site-packages/keras/src/saving/saving_lib.py:396: UserWarning: Skipping variable loading for optimizer 'rmsprop', because it has 216 variables whereas the saved optimizer has 431 variables. \n  trackable.load_own_variables(weights_store.get(inner_path))\n",
          "output_type": "stream"
        }
      ]
    },
    {
      "cell_type": "code",
      "source": [
        "x.summary()"
      ],
      "metadata": {
        "execution": {
          "iopub.status.busy": "2024-03-22T12:45:10.009149Z",
          "iopub.execute_input": "2024-03-22T12:45:10.009520Z",
          "iopub.status.idle": "2024-03-22T12:45:10.040876Z",
          "shell.execute_reply.started": "2024-03-22T12:45:10.009491Z",
          "shell.execute_reply": "2024-03-22T12:45:10.039929Z"
        },
        "trusted": true,
        "id": "zoMGPsb6fQZG",
        "outputId": "b0fe3cd0-e4c8-4d1a-afec-af0483f1d08f"
      },
      "execution_count": null,
      "outputs": [
        {
          "output_type": "display_data",
          "data": {
            "text/plain": "\u001b[1mModel: \"sequential\"\u001b[0m\n",
            "text/html": "<pre style=\"white-space:pre;overflow-x:auto;line-height:normal;font-family:Menlo,'DejaVu Sans Mono',consolas,'Courier New',monospace\"><span style=\"font-weight: bold\">Model: \"sequential\"</span>\n</pre>\n"
          },
          "metadata": {}
        },
        {
          "output_type": "display_data",
          "data": {
            "text/plain": "┏━━━━━━━━━━━━━━━━━━━━━━━━━━━━━━━━━┳━━━━━━━━━━━━━━━━━━━━━━━━┳━━━━━━━━━━━━━━━┓\n┃\u001b[1m \u001b[0m\u001b[1mLayer (type)                   \u001b[0m\u001b[1m \u001b[0m┃\u001b[1m \u001b[0m\u001b[1mOutput Shape          \u001b[0m\u001b[1m \u001b[0m┃\u001b[1m \u001b[0m\u001b[1m      Param #\u001b[0m\u001b[1m \u001b[0m┃\n┡━━━━━━━━━━━━━━━━━━━━━━━━━━━━━━━━━╇━━━━━━━━━━━━━━━━━━━━━━━━╇━━━━━━━━━━━━━━━┩\n│ resnet50 (\u001b[38;5;33mFunctional\u001b[0m)           │ (\u001b[38;5;34m32\u001b[0m, \u001b[38;5;34m1\u001b[0m)                │    \u001b[38;5;34m23,586,625\u001b[0m │\n└─────────────────────────────────┴────────────────────────┴───────────────┘\n",
            "text/html": "<pre style=\"white-space:pre;overflow-x:auto;line-height:normal;font-family:Menlo,'DejaVu Sans Mono',consolas,'Courier New',monospace\">┏━━━━━━━━━━━━━━━━━━━━━━━━━━━━━━━━━┳━━━━━━━━━━━━━━━━━━━━━━━━┳━━━━━━━━━━━━━━━┓\n┃<span style=\"font-weight: bold\"> Layer (type)                    </span>┃<span style=\"font-weight: bold\"> Output Shape           </span>┃<span style=\"font-weight: bold\">       Param # </span>┃\n┡━━━━━━━━━━━━━━━━━━━━━━━━━━━━━━━━━╇━━━━━━━━━━━━━━━━━━━━━━━━╇━━━━━━━━━━━━━━━┩\n│ resnet50 (<span style=\"color: #0087ff; text-decoration-color: #0087ff\">Functional</span>)           │ (<span style=\"color: #00af00; text-decoration-color: #00af00\">32</span>, <span style=\"color: #00af00; text-decoration-color: #00af00\">1</span>)                │    <span style=\"color: #00af00; text-decoration-color: #00af00\">23,586,625</span> │\n└─────────────────────────────────┴────────────────────────┴───────────────┘\n</pre>\n"
          },
          "metadata": {}
        },
        {
          "output_type": "display_data",
          "data": {
            "text/plain": "\u001b[1m Total params: \u001b[0m\u001b[38;5;34m47,120,132\u001b[0m (179.75 MB)\n",
            "text/html": "<pre style=\"white-space:pre;overflow-x:auto;line-height:normal;font-family:Menlo,'DejaVu Sans Mono',consolas,'Courier New',monospace\"><span style=\"font-weight: bold\"> Total params: </span><span style=\"color: #00af00; text-decoration-color: #00af00\">47,120,132</span> (179.75 MB)\n</pre>\n"
          },
          "metadata": {}
        },
        {
          "output_type": "display_data",
          "data": {
            "text/plain": "\u001b[1m Trainable params: \u001b[0m\u001b[38;5;34m23,533,505\u001b[0m (89.77 MB)\n",
            "text/html": "<pre style=\"white-space:pre;overflow-x:auto;line-height:normal;font-family:Menlo,'DejaVu Sans Mono',consolas,'Courier New',monospace\"><span style=\"font-weight: bold\"> Trainable params: </span><span style=\"color: #00af00; text-decoration-color: #00af00\">23,533,505</span> (89.77 MB)\n</pre>\n"
          },
          "metadata": {}
        },
        {
          "output_type": "display_data",
          "data": {
            "text/plain": "\u001b[1m Non-trainable params: \u001b[0m\u001b[38;5;34m53,120\u001b[0m (207.50 KB)\n",
            "text/html": "<pre style=\"white-space:pre;overflow-x:auto;line-height:normal;font-family:Menlo,'DejaVu Sans Mono',consolas,'Courier New',monospace\"><span style=\"font-weight: bold\"> Non-trainable params: </span><span style=\"color: #00af00; text-decoration-color: #00af00\">53,120</span> (207.50 KB)\n</pre>\n"
          },
          "metadata": {}
        },
        {
          "output_type": "display_data",
          "data": {
            "text/plain": "\u001b[1m Optimizer params: \u001b[0m\u001b[38;5;34m23,533,507\u001b[0m (89.77 MB)\n",
            "text/html": "<pre style=\"white-space:pre;overflow-x:auto;line-height:normal;font-family:Menlo,'DejaVu Sans Mono',consolas,'Courier New',monospace\"><span style=\"font-weight: bold\"> Optimizer params: </span><span style=\"color: #00af00; text-decoration-color: #00af00\">23,533,507</span> (89.77 MB)\n</pre>\n"
          },
          "metadata": {}
        }
      ]
    },
    {
      "cell_type": "code",
      "source": [
        "import os\n",
        "import subprocess\n",
        "from IPython.display import FileLink, display\n",
        "\n",
        "def download_file(path, download_file_name):\n",
        "    os.chdir('/kaggle/working/')\n",
        "    zip_name = f\"/kaggle/working/{download_file_name}.zip\"\n",
        "    command = f\"zip {zip_name} {path} -r\"\n",
        "    result = subprocess.run(command, shell=True, capture_output=True, text=True)\n",
        "    if result.returncode != 0:\n",
        "        print(\"Unable to run zip command!\")\n",
        "        print(result.stderr)\n",
        "        return\n",
        "    display(FileLink(f'{download_file_name}.zip'))"
      ],
      "metadata": {
        "execution": {
          "iopub.status.busy": "2024-03-22T12:53:24.037778Z",
          "iopub.execute_input": "2024-03-22T12:53:24.038250Z",
          "iopub.status.idle": "2024-03-22T12:53:24.047022Z",
          "shell.execute_reply.started": "2024-03-22T12:53:24.038201Z",
          "shell.execute_reply": "2024-03-22T12:53:24.045810Z"
        },
        "trusted": true,
        "id": "e9cpyTOTfQZH"
      },
      "execution_count": null,
      "outputs": []
    },
    {
      "cell_type": "code",
      "source": [
        "download_file('/kaggle/working/trainedResNet50.keras', 'trainedResNet50.keras')"
      ],
      "metadata": {
        "execution": {
          "iopub.status.busy": "2024-03-22T12:53:54.033469Z",
          "iopub.execute_input": "2024-03-22T12:53:54.033870Z",
          "iopub.status.idle": "2024-03-22T12:54:06.429579Z",
          "shell.execute_reply.started": "2024-03-22T12:53:54.033838Z",
          "shell.execute_reply": "2024-03-22T12:54:06.428794Z"
        },
        "trusted": true,
        "id": "PGZqeXV1fQZH",
        "outputId": "77cf1077-4fa8-4055-b3eb-969603d5c333"
      },
      "execution_count": null,
      "outputs": [
        {
          "output_type": "display_data",
          "data": {
            "text/plain": "/kaggle/working/trainedResNet50.keras.zip",
            "text/html": "<a href='trainedResNet50.keras.zip' target='_blank'>trainedResNet50.keras.zip</a><br>"
          },
          "metadata": {}
        }
      ]
    },
    {
      "cell_type": "code",
      "source": [
        "model = Sequential()\n",
        "\n",
        "resnet50_model = keras.applications.ResNet50(\n",
        "    include_top=True,\n",
        "    weights=None,\n",
        "    input_shape=(32, 32, 2),\n",
        "    pooling='avg',\n",
        "    classes=1,\n",
        "    classifier_activation=\"sigmoid\",\n",
        ")\n",
        "# for layer in resnet50_model.layers:\n",
        "#     layer.trainable = False\n",
        "\n",
        "model.add(resnet50_model)\n",
        "# model.add(Flatten())\n",
        "# model.add(Dense(512, activation='relu'))\n",
        "# model.add(Dropout(0.5))\n",
        "# model.add(Dense(1, activation='sigmoid'))\n",
        "\n",
        "model.summary()\n",
        "epochs = 50\n",
        "batch_size = 32\n",
        "\n",
        "history = model.fit(\n",
        "    x_train,\n",
        "    y_train,\n",
        "    batch_size=batch_size,\n",
        "    epochs=epochs,\n",
        "    verbose=1,\n",
        "    validation_data=(x_test, y_test),\n",
        "    callbacks=[callback, modelcheckpoint]\n",
        ")"
      ],
      "metadata": {
        "execution": {
          "iopub.status.busy": "2024-03-22T09:22:35.585569Z",
          "iopub.execute_input": "2024-03-22T09:22:35.586231Z",
          "iopub.status.idle": "2024-03-22T10:02:53.546313Z",
          "shell.execute_reply.started": "2024-03-22T09:22:35.586198Z",
          "shell.execute_reply": "2024-03-22T10:02:53.545440Z"
        },
        "trusted": true,
        "id": "jLmLTrJLfQZI",
        "outputId": "2e361fe5-589d-43fa-bad8-03e2bfa7b960"
      },
      "execution_count": null,
      "outputs": [
        {
          "name": "stdout",
          "text": "Epoch 1/50\n",
          "output_type": "stream"
        },
        {
          "name": "stderr",
          "text": "WARNING: All log messages before absl::InitializeLog() is called are written to STDERR\nI0000 00:00:1711099400.521850     362 service.cc:145] XLA service 0x7e0c9c005fc0 initialized for platform CUDA (this does not guarantee that XLA will be used). Devices:\nI0000 00:00:1711099400.521893     362 service.cc:153]   StreamExecutor device (0): Tesla P100-PCIE-16GB, Compute Capability 6.0\n",
          "output_type": "stream"
        },
        {
          "name": "stdout",
          "text": "\u001b[1m    3/12450\u001b[0m \u001b[37m━━━━━━━━━━━━━━━━━━━━\u001b[0m \u001b[1m6:37\u001b[0m 32ms/step - accuracy: 0.4549 - loss: 1.7112    ",
          "output_type": "stream"
        },
        {
          "name": "stderr",
          "text": "I0000 00:00:1711099419.214896     362 device_compiler.h:188] Compiled cluster using XLA!  This line is logged at most once for the lifetime of the process.\n",
          "output_type": "stream"
        },
        {
          "name": "stdout",
          "text": "\u001b[1m12450/12450\u001b[0m \u001b[32m━━━━━━━━━━━━━━━━━━━━\u001b[0m\u001b[37m\u001b[0m \u001b[1m400s\u001b[0m 28ms/step - accuracy: 0.5691 - loss: 0.7245 - val_accuracy: 0.5965 - val_loss: 0.6680\nEpoch 2/50\n\u001b[1m12450/12450\u001b[0m \u001b[32m━━━━━━━━━━━━━━━━━━━━\u001b[0m\u001b[37m\u001b[0m \u001b[1m335s\u001b[0m 27ms/step - accuracy: 0.6134 - loss: 0.6711 - val_accuracy: 0.6056 - val_loss: 0.6691\nEpoch 3/50\n\u001b[1m12450/12450\u001b[0m \u001b[32m━━━━━━━━━━━━━━━━━━━━\u001b[0m\u001b[37m\u001b[0m \u001b[1m333s\u001b[0m 27ms/step - accuracy: 0.6672 - loss: 0.6235 - val_accuracy: 0.6711 - val_loss: 0.6168\nEpoch 4/50\n\u001b[1m12450/12450\u001b[0m \u001b[32m━━━━━━━━━━━━━━━━━━━━\u001b[0m\u001b[37m\u001b[0m \u001b[1m333s\u001b[0m 27ms/step - accuracy: 0.6861 - loss: 0.6033 - val_accuracy: 0.6932 - val_loss: 0.5926\nEpoch 5/50\n\u001b[1m12450/12450\u001b[0m \u001b[32m━━━━━━━━━━━━━━━━━━━━\u001b[0m\u001b[37m\u001b[0m \u001b[1m336s\u001b[0m 27ms/step - accuracy: 0.6966 - loss: 0.5894 - val_accuracy: 0.6884 - val_loss: 0.6562\nEpoch 6/50\n\u001b[1m12450/12450\u001b[0m \u001b[32m━━━━━━━━━━━━━━━━━━━━\u001b[0m\u001b[37m\u001b[0m \u001b[1m337s\u001b[0m 27ms/step - accuracy: 0.7010 - loss: 0.5837 - val_accuracy: 0.7055 - val_loss: 0.5942\nEpoch 7/50\n\u001b[1m12450/12450\u001b[0m \u001b[32m━━━━━━━━━━━━━━━━━━━━\u001b[0m\u001b[37m\u001b[0m \u001b[1m337s\u001b[0m 27ms/step - accuracy: 0.7049 - loss: 0.5800 - val_accuracy: 0.6794 - val_loss: 1.0661\nEpoch 7: early stopping\nRestoring model weights from the end of the best epoch: 4.\n",
          "output_type": "stream"
        }
      ]
    },
    {
      "cell_type": "code",
      "source": [
        "y_train.shape"
      ],
      "metadata": {
        "execution": {
          "iopub.status.busy": "2024-03-22T10:02:53.547704Z",
          "iopub.execute_input": "2024-03-22T10:02:53.548110Z",
          "iopub.status.idle": "2024-03-22T10:02:53.554266Z",
          "shell.execute_reply.started": "2024-03-22T10:02:53.548076Z",
          "shell.execute_reply": "2024-03-22T10:02:53.553308Z"
        },
        "trusted": true,
        "id": "w64ADNFqfQZJ",
        "outputId": "355536f0-ff1b-43a7-b608-02d7407e4009"
      },
      "execution_count": null,
      "outputs": [
        {
          "execution_count": 21,
          "output_type": "execute_result",
          "data": {
            "text/plain": "(398400,)"
          },
          "metadata": {}
        }
      ]
    },
    {
      "cell_type": "code",
      "source": [
        "x_train.shape"
      ],
      "metadata": {
        "execution": {
          "iopub.status.busy": "2024-03-22T10:02:53.555531Z",
          "iopub.execute_input": "2024-03-22T10:02:53.555960Z",
          "iopub.status.idle": "2024-03-22T10:02:53.569117Z",
          "shell.execute_reply.started": "2024-03-22T10:02:53.555927Z",
          "shell.execute_reply": "2024-03-22T10:02:53.568235Z"
        },
        "trusted": true,
        "id": "2U8fGamPfQZJ",
        "outputId": "6cf37453-de94-4ffb-e6ba-a4ed602b6be7"
      },
      "execution_count": null,
      "outputs": [
        {
          "execution_count": 22,
          "output_type": "execute_result",
          "data": {
            "text/plain": "(398400, 32, 32, 2)"
          },
          "metadata": {}
        }
      ]
    },
    {
      "cell_type": "code",
      "source": [],
      "metadata": {
        "id": "3JnVEfWafQZK"
      },
      "execution_count": null,
      "outputs": []
    }
  ]
}